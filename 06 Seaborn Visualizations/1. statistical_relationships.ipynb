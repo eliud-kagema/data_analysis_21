{
 "cells": [
  {
   "cell_type": "markdown",
   "metadata": {},
   "source": [
    "![logo](https://user-images.githubusercontent.com/8652642/113849287-020f8600-97a2-11eb-9430-3c7af8823cf9.png)\n",
    "<hr style=\"margin-bottom: 40px;\">\n",
    "\n",
    "## Visualizing Statistical Relationships\n",
    "\n",
    "Helps understand how variables in a dataset relate to each other and how these relationships depend on other variables.\n",
    "\n",
    "1. Scatter plots\n",
    "2. Line plots"
   ]
  },
  {
   "cell_type": "markdown",
   "metadata": {},
   "source": [
    "![purple_divider](https://user-images.githubusercontent.com/8652642/113848477-2f0f6900-97a1-11eb-8d8f-f30fb9e8433d.png)\n"
   ]
  },
  {
   "cell_type": "code",
   "execution_count": null,
   "metadata": {},
   "outputs": [],
   "source": []
  }
 ],
 "metadata": {
  "kernelspec": {
   "display_name": "Python 3",
   "language": "python",
   "name": "python3"
  },
  "language_info": {
   "codemirror_mode": {
    "name": "ipython",
    "version": 3
   },
   "file_extension": ".py",
   "mimetype": "text/x-python",
   "name": "python",
   "nbconvert_exporter": "python",
   "pygments_lexer": "ipython3",
   "version": "3.8.3"
  }
 },
 "nbformat": 4,
 "nbformat_minor": 4
}
